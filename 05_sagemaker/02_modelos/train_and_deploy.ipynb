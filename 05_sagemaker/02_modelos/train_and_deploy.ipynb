{
 "cells": [
  {
   "cell_type": "markdown",
   "id": "0d2ae2e8",
   "metadata": {},
   "source": [
    "# Sesión 1 - Introducción a Sagemaker "
   ]
  },
  {
   "cell_type": "markdown",
   "id": "85e6da3b",
   "metadata": {},
   "source": [
    "## Inicio de sesión"
   ]
  },
  {
   "cell_type": "code",
   "execution_count": 1,
   "id": "444e9a66",
   "metadata": {},
   "outputs": [],
   "source": [
    "import sagemaker\n",
    "\n",
    "try:\n",
    "    role = sagemaker.get_execution_role()\n",
    "except:\n",
    "    role = \"arn:aws:iam::827345860551:role/SageMakerExecutionRole\"\n",
    "\n",
    "sesion = sagemaker.Session()\n",
    "bucket = sesion.default_bucket()\n",
    "region = sesion.boto_session.region_name"
   ]
  },
  {
   "cell_type": "markdown",
   "id": "b14f2a3d",
   "metadata": {},
   "source": [
    "## Subida de datos"
   ]
  },
  {
   "cell_type": "code",
   "execution_count": 3,
   "id": "a8834f61",
   "metadata": {},
   "outputs": [
    {
     "name": "stdout",
     "output_type": "stream",
     "text": [
      "s3://sagemaker-eu-west-1-827345860551/curso_sagemaker/data/iris.csv\n"
     ]
    }
   ],
   "source": [
    "import boto3\n",
    "import pandas as pd\n",
    "import numpy as np\n",
    "import sagemaker\n",
    "from sklearn.datasets import load_iris\n",
    "\n",
    "data = load_iris()\n",
    "df = pd.DataFrame(\n",
    "    data=np.c_[data['data'], data['target']],\n",
    "    columns= data['feature_names'] + ['Species']\n",
    "    )\n",
    "\n",
    "df.to_csv(\"iris.csv\",index=False)\n",
    "\n",
    "s3_path = sesion.upload_data(\n",
    "    path=\"iris.csv\",\n",
    "    bucket=bucket,\n",
    "    key_prefix=\"curso_sagemaker/data\"\n",
    ")\n",
    "\n",
    "print(s3_path)"
   ]
  },
  {
   "cell_type": "markdown",
   "id": "01fb50ce",
   "metadata": {},
   "source": [
    "## Creación del Estimator"
   ]
  },
  {
   "cell_type": "code",
   "execution_count": 4,
   "id": "9e13e779",
   "metadata": {},
   "outputs": [],
   "source": [
    "from sagemaker.sklearn.estimator import SKLearn\n",
    "\n",
    "sklearn = SKLearn(\n",
    "    source_dir='./src',\n",
    "    entry_point='train.py',\n",
    "    framework_version='0.23-1',\n",
    "    instance_type=\"ml.c4.xlarge\",\n",
    "    role=role,\n",
    "    sagemaker_session=sesion,\n",
    "    hyperparameters={\n",
    "        \"min_leaf_nodes\": 3,\n",
    "        \"n_estimators\": 10,\n",
    "        \"target\": \"Species\"\n",
    "    }\n",
    ")"
   ]
  },
  {
   "cell_type": "markdown",
   "id": "d2525285",
   "metadata": {},
   "source": [
    "## Entrenamiento del modelo"
   ]
  },
  {
   "cell_type": "code",
   "execution_count": 5,
   "id": "eaf4af94",
   "metadata": {},
   "outputs": [
    {
     "name": "stdout",
     "output_type": "stream",
     "text": [
      "2022-03-30 07:52:49 Starting - Starting the training job...\n",
      "2022-03-30 07:52:51 Starting - Launching requested ML instancesProfilerReport-1648626768: InProgress\n",
      "......\n",
      "2022-03-30 07:54:18 Starting - Preparing the instances for training......\n",
      "2022-03-30 07:55:23 Downloading - Downloading input data...\n",
      "2022-03-30 07:55:44 Training - Downloading the training image...\n",
      "2022-03-30 07:56:24 Uploading - Uploading generated training model\u001b[34m2022-03-30 07:56:10,808 sagemaker-containers INFO     Imported framework sagemaker_sklearn_container.training\u001b[0m\n",
      "\u001b[34m2022-03-30 07:56:10,810 sagemaker-training-toolkit INFO     No GPUs detected (normal if no gpus installed)\u001b[0m\n",
      "\u001b[34m2022-03-30 07:56:10,819 sagemaker_sklearn_container.training INFO     Invoking user training script.\u001b[0m\n",
      "\u001b[34m2022-03-30 07:56:11,209 sagemaker-training-toolkit INFO     Installing dependencies from requirements.txt:\u001b[0m\n",
      "\u001b[34m/miniconda3/bin/python -m pip install -r requirements.txt\u001b[0m\n",
      "\u001b[34mCollecting scikit-learn==0.23\n",
      "  Downloading scikit_learn-0.23.0-cp37-cp37m-manylinux1_x86_64.whl (7.3 MB)\n",
      "     ━━━━━━━━━━━━━━━━━━━━━━━━━━━━━━━━━━━━━━━━ 7.3/7.3 MB 66.6 MB/s eta 0:00:00\u001b[0m\n",
      "\u001b[34mRequirement already satisfied: scipy>=0.19.1 in /miniconda3/lib/python3.7/site-packages (from scikit-learn==0.23->-r requirements.txt (line 1)) (1.5.3)\u001b[0m\n",
      "\u001b[34mRequirement already satisfied: numpy>=1.13.3 in /miniconda3/lib/python3.7/site-packages (from scikit-learn==0.23->-r requirements.txt (line 1)) (1.21.0)\u001b[0m\n",
      "\u001b[34mRequirement already satisfied: threadpoolctl>=2.0.0 in /miniconda3/lib/python3.7/site-packages (from scikit-learn==0.23->-r requirements.txt (line 1)) (3.1.0)\u001b[0m\n",
      "\u001b[34mRequirement already satisfied: joblib>=0.11 in /miniconda3/lib/python3.7/site-packages (from scikit-learn==0.23->-r requirements.txt (line 1)) (1.1.0)\u001b[0m\n",
      "\u001b[34mInstalling collected packages: scikit-learn\n",
      "  Attempting uninstall: scikit-learn\n",
      "    Found existing installation: scikit-learn 0.23.2\n",
      "    Uninstalling scikit-learn-0.23.2:\n",
      "      Successfully uninstalled scikit-learn-0.23.2\u001b[0m\n",
      "\u001b[34mERROR: pip's dependency resolver does not currently take into account all the packages that are installed. This behaviour is the source of the following dependency conflicts.\u001b[0m\n",
      "\u001b[34msagemaker-sklearn-container 2.0 requires scikit-learn==0.23.2, but you have scikit-learn 0.23.0 which is incompatible.\u001b[0m\n",
      "\u001b[34mSuccessfully installed scikit-learn-0.23.0\u001b[0m\n",
      "\u001b[34mWARNING: Running pip as the 'root' user can result in broken permissions and conflicting behaviour with the system package manager. It is recommended to use a virtual environment instead: https://pip.pypa.io/warnings/venv\u001b[0m\n",
      "\u001b[34mWARNING: You are using pip version 22.0.3; however, version 22.0.4 is available.\u001b[0m\n",
      "\u001b[34mYou should consider upgrading via the '/miniconda3/bin/python -m pip install --upgrade pip' command.\u001b[0m\n",
      "\u001b[34m2022-03-30 07:56:14,897 sagemaker-training-toolkit INFO     No GPUs detected (normal if no gpus installed)\u001b[0m\n",
      "\u001b[34m2022-03-30 07:56:14,909 sagemaker-training-toolkit INFO     No GPUs detected (normal if no gpus installed)\u001b[0m\n",
      "\u001b[34m2022-03-30 07:56:14,920 sagemaker-training-toolkit INFO     No GPUs detected (normal if no gpus installed)\u001b[0m\n",
      "\u001b[34m2022-03-30 07:56:14,931 sagemaker-training-toolkit INFO     Invoking user script\u001b[0m\n",
      "\u001b[34mTraining Env:\u001b[0m\n",
      "\u001b[34m{\n",
      "    \"additional_framework_parameters\": {},\n",
      "    \"channel_input_dirs\": {\n",
      "        \"train\": \"/opt/ml/input/data/train\"\n",
      "    },\n",
      "    \"current_host\": \"algo-1\",\n",
      "    \"framework_module\": \"sagemaker_sklearn_container.training:main\",\n",
      "    \"hosts\": [\n",
      "        \"algo-1\"\n",
      "    ],\n",
      "    \"hyperparameters\": {\n",
      "        \"min_leaf_nodes\": 3,\n",
      "        \"n_estimators\": 10,\n",
      "        \"target\": \"Species\"\n",
      "    },\n",
      "    \"input_config_dir\": \"/opt/ml/input/config\",\n",
      "    \"input_data_config\": {\n",
      "        \"train\": {\n",
      "            \"TrainingInputMode\": \"File\",\n",
      "            \"S3DistributionType\": \"FullyReplicated\",\n",
      "            \"RecordWrapperType\": \"None\"\n",
      "        }\n",
      "    },\n",
      "    \"input_dir\": \"/opt/ml/input\",\n",
      "    \"is_master\": true,\n",
      "    \"job_name\": \"sagemaker-scikit-learn-2022-03-30-07-52-48-602\",\n",
      "    \"log_level\": 20,\n",
      "    \"master_hostname\": \"algo-1\",\n",
      "    \"model_dir\": \"/opt/ml/model\",\n",
      "    \"module_dir\": \"s3://sagemaker-eu-west-1-827345860551/sagemaker-scikit-learn-2022-03-30-07-52-48-602/source/sourcedir.tar.gz\",\n",
      "    \"module_name\": \"train\",\n",
      "    \"network_interface_name\": \"eth0\",\n",
      "    \"num_cpus\": 4,\n",
      "    \"num_gpus\": 0,\n",
      "    \"output_data_dir\": \"/opt/ml/output/data\",\n",
      "    \"output_dir\": \"/opt/ml/output\",\n",
      "    \"output_intermediate_dir\": \"/opt/ml/output/intermediate\",\n",
      "    \"resource_config\": {\n",
      "        \"current_host\": \"algo-1\",\n",
      "        \"hosts\": [\n",
      "            \"algo-1\"\n",
      "        ],\n",
      "        \"network_interface_name\": \"eth0\"\n",
      "    },\n",
      "    \"user_entry_point\": \"train.py\"\u001b[0m\n",
      "\u001b[34m}\u001b[0m\n",
      "\u001b[34mEnvironment variables:\u001b[0m\n",
      "\u001b[34mSM_HOSTS=[\"algo-1\"]\u001b[0m\n",
      "\u001b[34mSM_NETWORK_INTERFACE_NAME=eth0\u001b[0m\n",
      "\u001b[34mSM_HPS={\"min_leaf_nodes\":3,\"n_estimators\":10,\"target\":\"Species\"}\u001b[0m\n",
      "\u001b[34mSM_USER_ENTRY_POINT=train.py\u001b[0m\n",
      "\u001b[34mSM_FRAMEWORK_PARAMS={}\u001b[0m\n",
      "\u001b[34mSM_RESOURCE_CONFIG={\"current_host\":\"algo-1\",\"hosts\":[\"algo-1\"],\"network_interface_name\":\"eth0\"}\u001b[0m\n",
      "\u001b[34mSM_INPUT_DATA_CONFIG={\"train\":{\"RecordWrapperType\":\"None\",\"S3DistributionType\":\"FullyReplicated\",\"TrainingInputMode\":\"File\"}}\u001b[0m\n",
      "\u001b[34mSM_OUTPUT_DATA_DIR=/opt/ml/output/data\u001b[0m\n",
      "\u001b[34mSM_CHANNELS=[\"train\"]\u001b[0m\n",
      "\u001b[34mSM_CURRENT_HOST=algo-1\u001b[0m\n",
      "\u001b[34mSM_MODULE_NAME=train\u001b[0m\n",
      "\u001b[34mSM_LOG_LEVEL=20\u001b[0m\n",
      "\u001b[34mSM_FRAMEWORK_MODULE=sagemaker_sklearn_container.training:main\u001b[0m\n",
      "\u001b[34mSM_INPUT_DIR=/opt/ml/input\u001b[0m\n",
      "\u001b[34mSM_INPUT_CONFIG_DIR=/opt/ml/input/config\u001b[0m\n",
      "\u001b[34mSM_OUTPUT_DIR=/opt/ml/output\u001b[0m\n",
      "\u001b[34mSM_NUM_CPUS=4\u001b[0m\n",
      "\u001b[34mSM_NUM_GPUS=0\u001b[0m\n",
      "\u001b[34mSM_MODEL_DIR=/opt/ml/model\u001b[0m\n",
      "\u001b[34mSM_MODULE_DIR=s3://sagemaker-eu-west-1-827345860551/sagemaker-scikit-learn-2022-03-30-07-52-48-602/source/sourcedir.tar.gz\u001b[0m\n",
      "\u001b[34mSM_TRAINING_ENV={\"additional_framework_parameters\":{},\"channel_input_dirs\":{\"train\":\"/opt/ml/input/data/train\"},\"current_host\":\"algo-1\",\"framework_module\":\"sagemaker_sklearn_container.training:main\",\"hosts\":[\"algo-1\"],\"hyperparameters\":{\"min_leaf_nodes\":3,\"n_estimators\":10,\"target\":\"Species\"},\"input_config_dir\":\"/opt/ml/input/config\",\"input_data_config\":{\"train\":{\"RecordWrapperType\":\"None\",\"S3DistributionType\":\"FullyReplicated\",\"TrainingInputMode\":\"File\"}},\"input_dir\":\"/opt/ml/input\",\"is_master\":true,\"job_name\":\"sagemaker-scikit-learn-2022-03-30-07-52-48-602\",\"log_level\":20,\"master_hostname\":\"algo-1\",\"model_dir\":\"/opt/ml/model\",\"module_dir\":\"s3://sagemaker-eu-west-1-827345860551/sagemaker-scikit-learn-2022-03-30-07-52-48-602/source/sourcedir.tar.gz\",\"module_name\":\"train\",\"network_interface_name\":\"eth0\",\"num_cpus\":4,\"num_gpus\":0,\"output_data_dir\":\"/opt/ml/output/data\",\"output_dir\":\"/opt/ml/output\",\"output_intermediate_dir\":\"/opt/ml/output/intermediate\",\"resource_config\":{\"current_host\":\"algo-1\",\"hosts\":[\"algo-1\"],\"network_interface_name\":\"eth0\"},\"user_entry_point\":\"train.py\"}\u001b[0m\n",
      "\u001b[34mSM_USER_ARGS=[\"--min_leaf_nodes\",\"3\",\"--n_estimators\",\"10\",\"--target\",\"Species\"]\u001b[0m\n",
      "\u001b[34mSM_OUTPUT_INTERMEDIATE_DIR=/opt/ml/output/intermediate\u001b[0m\n",
      "\u001b[34mSM_CHANNEL_TRAIN=/opt/ml/input/data/train\u001b[0m\n",
      "\u001b[34mSM_HP_MIN_LEAF_NODES=3\u001b[0m\n",
      "\u001b[34mSM_HP_N_ESTIMATORS=10\u001b[0m\n",
      "\u001b[34mSM_HP_TARGET=Species\u001b[0m\n",
      "\u001b[34mPYTHONPATH=/opt/ml/code:/miniconda3/bin:/miniconda3/lib/python37.zip:/miniconda3/lib/python3.7:/miniconda3/lib/python3.7/lib-dynload:/miniconda3/lib/python3.7/site-packages\u001b[0m\n",
      "\u001b[34mInvoking script with the following command:\u001b[0m\n",
      "\u001b[34m/miniconda3/bin/python train.py --min_leaf_nodes 3 --n_estimators 10 --target Species\u001b[0m\n",
      "\u001b[34mAccuracy=0.9210526315789473\u001b[0m\n",
      "\u001b[34m2022-03-30 07:56:16,285 sagemaker-containers INFO     Reporting training SUCCESS\u001b[0m\n",
      "\n",
      "2022-03-30 07:56:44 Completed - Training job completed\n",
      "ProfilerReport-1648626768: NoIssuesFound\n",
      "Training seconds: 70\n",
      "Billable seconds: 70\n"
     ]
    }
   ],
   "source": [
    "sklearn.fit(inputs={\"train\": s3_path})"
   ]
  },
  {
   "cell_type": "markdown",
   "id": "6d0f6aec",
   "metadata": {},
   "source": [
    "## Despliegue del modelo"
   ]
  },
  {
   "cell_type": "code",
   "execution_count": 2,
   "id": "3a8ea11e",
   "metadata": {},
   "outputs": [],
   "source": [
    "predictor = sklearn.deploy(\n",
    "    initial_instance_count=1,\n",
    "    instance_type=\"ml.m5.xlarge\"\n",
    ")"
   ]
  },
  {
   "cell_type": "markdown",
   "id": "0dda8c20",
   "metadata": {},
   "source": [
    "## Predicción de datos"
   ]
  },
  {
   "cell_type": "code",
   "execution_count": 6,
   "id": "92d8d07a",
   "metadata": {},
   "outputs": [
    {
     "name": "stdout",
     "output_type": "stream",
     "text": [
      "[0. 1. 1. 0. 2. 1. 2. 1. 1. 0. 2. 0. 1. 1. 2. 0. 2. 2. 2. 1. 0. 0. 1. 2.\n",
      " 1. 0. 2. 2. 0. 2. 0. 2. 1. 0. 2. 1. 2. 1.]\n"
     ]
    }
   ],
   "source": [
    "from sklearn.model_selection import train_test_split\n",
    "\n",
    "X = df.loc[:, df.columns != \"Species\"].values\n",
    "y = df.loc[:, df.columns == \"Species\"].values.ravel()\n",
    "X_train, X_test, y_train, y_test = train_test_split(X, y, random_state=28)\n",
    "\n",
    "response = predictor.predict(X_test)\n",
    "print(response)"
   ]
  },
  {
   "cell_type": "markdown",
   "id": "9d539ec8",
   "metadata": {},
   "source": [
    "## Borrado del endpoint"
   ]
  },
  {
   "cell_type": "code",
   "execution_count": 7,
   "id": "6681e4b6",
   "metadata": {},
   "outputs": [],
   "source": [
    "predictor.delete_endpoint()"
   ]
  }
 ],
 "metadata": {
  "kernelspec": {
   "display_name": "Python 3 (ipykernel)",
   "language": "python",
   "name": "python3"
  },
  "language_info": {
   "codemirror_mode": {
    "name": "ipython",
    "version": 3
   },
   "file_extension": ".py",
   "mimetype": "text/x-python",
   "name": "python",
   "nbconvert_exporter": "python",
   "pygments_lexer": "ipython3",
   "version": "3.8.10"
  }
 },
 "nbformat": 4,
 "nbformat_minor": 5
}
