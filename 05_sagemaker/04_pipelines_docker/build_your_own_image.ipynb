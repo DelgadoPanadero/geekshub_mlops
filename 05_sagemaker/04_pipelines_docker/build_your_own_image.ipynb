{
 "cells": [
  {
   "cell_type": "markdown",
   "id": "0f8ef181",
   "metadata": {},
   "source": [
    "# Sesión 3 - Construyendo tus propios algoritmos"
   ]
  },
  {
   "cell_type": "markdown",
   "id": "af566068",
   "metadata": {},
   "source": [
    "## Inicio de sesión"
   ]
  },
  {
   "cell_type": "code",
   "execution_count": 1,
   "id": "9acd9656",
   "metadata": {},
   "outputs": [
    {
     "name": "stderr",
     "output_type": "stream",
     "text": [
      "Couldn't call 'get_role' to get Role ARN from role name bhernandez to get Role path.\n"
     ]
    }
   ],
   "source": [
    "import sagemaker\n",
    "\n",
    "try:\n",
    "    role = sagemaker.get_execution_role()\n",
    "except:\n",
    "    role = \"arn:aws:iam::827345860551:role/SageMakerExecutionRole\"\n",
    "\n",
    "sesion = sagemaker.Session()\n",
    "bucket = sesion.default_bucket()\n",
    "region = sesion.boto_session.region_name"
   ]
  },
  {
   "cell_type": "markdown",
   "id": "91db9cb5",
   "metadata": {},
   "source": [
    "## Subida de datos"
   ]
  },
  {
   "cell_type": "code",
   "execution_count": 2,
   "id": "5e9ac258",
   "metadata": {},
   "outputs": [
    {
     "name": "stdout",
     "output_type": "stream",
     "text": [
      "s3://sagemaker-eu-west-1-827345860551/curso_sagemaker/data/iris.csv\n",
      "s3://sagemaker-eu-west-1-827345860551/curso_sagemaker/data/train.csv\n",
      "s3://sagemaker-eu-west-1-827345860551/curso_sagemaker/data/test.csv\n"
     ]
    }
   ],
   "source": [
    "import boto3\n",
    "import pandas as pd\n",
    "import numpy as np\n",
    "import sagemaker\n",
    "from sklearn.datasets import load_iris\n",
    "from sklearn.model_selection import train_test_split\n",
    "\n",
    "\n",
    "data = load_iris()\n",
    "df = pd.DataFrame(\n",
    "    data=np.c_[data['data'], data['target']],\n",
    "    columns= data['feature_names'] + ['Species']\n",
    "    )\n",
    "\n",
    "df.to_csv(\"iris.csv\",index=False)\n",
    "\n",
    "s3_path = sesion.upload_data(\n",
    "    path=\"iris.csv\",\n",
    "    bucket=bucket,\n",
    "    key_prefix=\"curso_sagemaker/data\"\n",
    ")\n",
    "\n",
    "X = df.loc[:, df.columns != 'Species']\n",
    "y = df.loc[:, df.columns == 'Species']\n",
    "\n",
    "# Split data\n",
    "X_train, X_test, y_train, y_test = train_test_split(X, y, random_state=28)\n",
    "\n",
    "# Save data\n",
    "pd.concat([X_train, y_train], axis=1).to_csv(\n",
    "    \"train.csv\",\n",
    "    index=False)\n",
    "\n",
    "s3_train_path = sesion.upload_data(\n",
    "    path=\"train.csv\",\n",
    "    bucket=bucket,\n",
    "    key_prefix=\"curso_sagemaker/data\"\n",
    ")\n",
    "pd.concat([X_test, y_test], axis=1).to_csv(\n",
    "    \"test.csv\",\n",
    "    index=False)\n",
    "\n",
    "s3_test_path = sesion.upload_data(\n",
    "    path=\"test.csv\",\n",
    "    bucket=bucket,\n",
    "    key_prefix=\"curso_sagemaker/data\"\n",
    ")\n",
    "\n",
    "print(s3_path)\n",
    "print(s3_train_path)\n",
    "print(s3_test_path)"
   ]
  },
  {
   "cell_type": "markdown",
   "id": "a50b8241",
   "metadata": {},
   "source": [
    "## Construcción de la imagen docker"
   ]
  },
  {
   "cell_type": "code",
   "execution_count": 7,
   "id": "d69fef32",
   "metadata": {},
   "outputs": [
    {
     "name": "stdout",
     "output_type": "stream",
     "text": [
      "········\n"
     ]
    },
    {
     "name": "stderr",
     "output_type": "stream",
     "text": [
      "[sudo] password for adelgado: WARNING! Your password will be stored unencrypted in /root/.docker/config.json.\n",
      "Configure a credential helper to remove this warning. See\n",
      "https://docs.docker.com/engine/reference/commandline/login/#credentials-store\n",
      "\n"
     ]
    },
    {
     "name": "stdout",
     "output_type": "stream",
     "text": [
      "Login Succeeded\n",
      "Sending build context to Docker daemon  11.78kB\n",
      "Step 1/11 : FROM python:3.8\n",
      " ---> 271c1bcd4489\n",
      "Step 2/11 : COPY ./requirements.txt /home\n",
      " ---> Using cache\n",
      " ---> 446556bc43e2\n",
      "Step 3/11 : WORKDIR /home\n",
      " ---> Using cache\n",
      " ---> 66c188ac7d22\n",
      "Step 4/11 : RUN  pip install -r requirements.txt\n",
      " ---> Using cache\n",
      " ---> b679ea30b01f\n",
      "Step 5/11 : COPY ./ /home\n",
      " ---> 76a36f0d31be\n",
      "Step 6/11 : RUN echo \"#!/bin/bash\\n/usr/local/bin/python -u /home/processing.py\" > /usr/bin/processing\n",
      " ---> Running in a9825cfd5706\n",
      "Removing intermediate container a9825cfd5706\n",
      " ---> c56988f86d75\n",
      "Step 7/11 : RUN echo \"#!/bin/bash\\n/usr/local/bin/python -u /home/train.py\" > /usr/bin/train\n",
      " ---> Running in 84f87b4c156f\n",
      "Removing intermediate container 84f87b4c156f\n",
      " ---> 28969795aca8\n",
      "Step 8/11 : RUN echo \"#!/bin/bash\\n/usr/local/bin/python -u /home/serve.py\" > /usr/bin/serve\n",
      " ---> Running in d0f0b027586a\n",
      "Removing intermediate container d0f0b027586a\n",
      " ---> addddb1f5c43\n",
      "Step 9/11 : RUN chmod +x /usr/bin/processing\n",
      " ---> Running in 4c303d466aee\n",
      "Removing intermediate container 4c303d466aee\n",
      " ---> deee2ca8d03c\n",
      "Step 10/11 : RUN chmod +x /usr/bin/train\n",
      " ---> Running in d54cdb22ae07\n",
      "Removing intermediate container d54cdb22ae07\n",
      " ---> dd2dd9cbb355\n",
      "Step 11/11 : RUN chmod +x /usr/bin/serve\n",
      " ---> Running in f5e631418e93\n",
      "Removing intermediate container f5e631418e93\n",
      " ---> 9b60d26671e9\n",
      "Successfully built 9b60d26671e9\n",
      "Successfully tagged sagemaker-decision-trees:latest\n",
      "The push refers to repository [827345860551.dkr.ecr.eu-west-1.amazonaws.com/sagemaker-decision-trees]\n",
      "5f8fb40830d1: Preparing\n",
      "67cc86cfae2d: Preparing\n",
      "20d057a86988: Preparing\n",
      "9489754fb3c4: Preparing\n",
      "1a25718742f9: Preparing\n",
      "40f00ec63348: Preparing\n",
      "31ebd77ccec0: Preparing\n",
      "7b6a76ce8914: Preparing\n",
      "4b386147609d: Preparing\n",
      "69f41cf10df1: Preparing\n",
      "8b7f1b20e3ab: Preparing\n",
      "3b34b6c9e93c: Preparing\n",
      "ccfb32241621: Preparing\n",
      "204e42b3d47b: Preparing\n",
      "613ab28cf833: Preparing\n",
      "bed676ceab7a: Preparing\n",
      "6398d5cccd2c: Preparing\n",
      "0b0f2f2f5279: Preparing\n",
      "31ebd77ccec0: Waiting\n",
      "7b6a76ce8914: Waiting\n",
      "204e42b3d47b: Waiting\n",
      "613ab28cf833: Waiting\n",
      "bed676ceab7a: Waiting\n",
      "3b34b6c9e93c: Waiting\n",
      "69f41cf10df1: Waiting\n",
      "6398d5cccd2c: Waiting\n",
      "4b386147609d: Waiting\n",
      "ccfb32241621: Waiting\n",
      "8b7f1b20e3ab: Waiting\n",
      "0b0f2f2f5279: Waiting\n",
      "40f00ec63348: Waiting\n",
      "5f8fb40830d1: Pushed\n",
      "67cc86cfae2d: Pushed\n",
      "9489754fb3c4: Pushed\n",
      "20d057a86988: Pushed\n",
      "1a25718742f9: Pushed\n",
      "4b386147609d: Layer already exists\n",
      "7b6a76ce8914: Layer already exists\n",
      "69f41cf10df1: Layer already exists\n",
      "3b34b6c9e93c: Layer already exists\n",
      "204e42b3d47b: Layer already exists\n",
      "8b7f1b20e3ab: Layer already exists\n",
      "ccfb32241621: Layer already exists\n",
      "31ebd77ccec0: Pushed\n",
      "6398d5cccd2c: Layer already exists\n",
      "bed676ceab7a: Layer already exists\n",
      "613ab28cf833: Layer already exists\n",
      "40f00ec63348: Pushed\n",
      "0b0f2f2f5279: Layer already exists\n",
      "latest: digest: sha256:408e106c0ef8c33c603fb04cb2da1b41c8067825f9c5ab2ae4ca8c54c5f13484 size: 4089\n"
     ]
    },
    {
     "data": {
      "text/plain": [
       "0"
      ]
     },
     "execution_count": 7,
     "metadata": {},
     "output_type": "execute_result"
    }
   ],
   "source": [
    "import getpass\n",
    "import os\n",
    "\n",
    "password = getpass.getpass()\n",
    "command = \"sudo -S sh ./build_and_push.sh\"\n",
    "os.system('cd src; echo %s | %s' % (password, command))"
   ]
  },
  {
   "cell_type": "markdown",
   "id": "41d2d24e",
   "metadata": {},
   "source": [
    "## Ejecución son Sagemaker"
   ]
  },
  {
   "cell_type": "markdown",
   "id": "78d1d44b",
   "metadata": {},
   "source": [
    "#### Entrenamiento"
   ]
  },
  {
   "cell_type": "code",
   "execution_count": 8,
   "id": "c686e7d5",
   "metadata": {},
   "outputs": [
    {
     "name": "stdout",
     "output_type": "stream",
     "text": [
      "2022-04-01 20:30:15 Starting - Starting the training job...\n",
      "2022-04-01 20:30:41 Starting - Preparing the instances for trainingProfilerReport-1648845014: InProgress\n",
      "......\n",
      "2022-04-01 20:32:01 Downloading - Downloading input data\n",
      "2022-04-01 20:32:01 Training - Downloading the training image..\u001b[34mAccuracy=0.9210526315789473\u001b[0m\n",
      "\n",
      "2022-04-01 20:32:22 Uploading - Uploading generated training model\n",
      "2022-04-01 20:32:22 Completed - Training job completed\n",
      "Training seconds: 42\n",
      "Billable seconds: 42\n"
     ]
    }
   ],
   "source": [
    "from sagemaker.estimator import Estimator\n",
    "\n",
    "\n",
    "account = sesion.boto_session.client(\"sts\").get_caller_identity()[\"Account\"]\n",
    "image = \"{}.dkr.ecr.{}.amazonaws.com/sagemaker-decision-trees:latest\".format(account, region)\n",
    "estimator = Estimator(\n",
    "    image_uri=image,\n",
    "    role=role,\n",
    "    instance_count=1,\n",
    "    instance_type=\"ml.c4.2xlarge\",\n",
    "    output_path=\"s3://{}/output\".format(bucket),\n",
    "    sagemaker_session=sesion,\n",
    ")\n",
    "\n",
    "estimator.fit(inputs={\n",
    "    \"train\": s3_train_path,\n",
    "    \"test\": s3_test_path}\n",
    ")"
   ]
  },
  {
   "cell_type": "markdown",
   "id": "efb0f138",
   "metadata": {},
   "source": [
    "#### Trabajo de inferencia"
   ]
  },
  {
   "cell_type": "code",
   "execution_count": 9,
   "id": "d86f6313",
   "metadata": {},
   "outputs": [
    {
     "name": "stdout",
     "output_type": "stream",
     "text": [
      "........................\n",
      "\u001b[34m * Serving Flask app 'serve' (lazy loading)\n",
      " * Environment: production\n",
      "   WARNING: This is a development server. Do not use it in a production deployment.\n",
      "   Use a production WSGI server instead.\n",
      " * Debug mode: on\n",
      " * Running on all addresses (0.0.0.0)\n",
      "   WARNING: This is a development server. Do not use it in a production deployment.\n",
      " * Running on http://127.0.0.1:8080\n",
      " * Running on http://169.254.255.131:8080 (Press CTRL+C to quit)\n",
      " * Restarting with stat\u001b[0m\n",
      "\u001b[35m * Serving Flask app 'serve' (lazy loading)\n",
      " * Environment: production\n",
      "   WARNING: This is a development server. Do not use it in a production deployment.\n",
      "   Use a production WSGI server instead.\n",
      " * Debug mode: on\n",
      " * Running on all addresses (0.0.0.0)\n",
      "   WARNING: This is a development server. Do not use it in a production deployment.\n",
      " * Running on http://127.0.0.1:8080\n",
      " * Running on http://169.254.255.131:8080 (Press CTRL+C to quit)\n",
      " * Restarting with stat\u001b[0m\n",
      "\u001b[34m * Debugger is active!\n",
      " * Debugger PIN: 113-950-310\u001b[0m\n",
      "\u001b[35m * Debugger is active!\n",
      " * Debugger PIN: 113-950-310\u001b[0m\n",
      "\u001b[34m169.254.255.130 - - [01/Apr/2022 20:37:59] \"GET /ping HTTP/1.1\" 200 -\u001b[0m\n",
      "\u001b[34m169.254.255.130 - - [01/Apr/2022 20:37:59] \"#033[33mGET /execution-parameters HTTP/1.1#033[0m\" 404 -\u001b[0m\n",
      "\u001b[34m169.254.255.130 - - [01/Apr/2022 20:37:59] \"POST /invocations HTTP/1.1\" 200 -\u001b[0m\n",
      "\u001b[35m169.254.255.130 - - [01/Apr/2022 20:37:59] \"GET /ping HTTP/1.1\" 200 -\u001b[0m\n",
      "\u001b[35m169.254.255.130 - - [01/Apr/2022 20:37:59] \"#033[33mGET /execution-parameters HTTP/1.1#033[0m\" 404 -\u001b[0m\n",
      "\u001b[35m169.254.255.130 - - [01/Apr/2022 20:37:59] \"POST /invocations HTTP/1.1\" 200 -\u001b[0m\n",
      "\u001b[32m2022-04-01T20:37:59.070:[sagemaker logs]: MaxConcurrentTransforms=1, MaxPayloadInMB=6, BatchStrategy=MULTI_RECORD\u001b[0m\n",
      "\u001b[34m * Serving Flask app 'serve' (lazy loading)\n",
      " * Environment: production\n",
      "   WARNING: This is a development server. Do not use it in a production deployment.\n",
      "   Use a production WSGI server instead.\n",
      " * Debug mode: on\n",
      " * Running on all addresses (0.0.0.0)\n",
      "   WARNING: This is a development server. Do not use it in a production deployment.\n",
      " * Running on http://127.0.0.1:8080\n",
      " * Running on http://169.254.255.131:8080 (Press CTRL+C to quit)\n",
      " * Restarting with stat\u001b[0m\n",
      "\u001b[35m * Serving Flask app 'serve' (lazy loading)\n",
      " * Environment: production\n",
      "   WARNING: This is a development server. Do not use it in a production deployment.\n",
      "   Use a production WSGI server instead.\n",
      " * Debug mode: on\n",
      " * Running on all addresses (0.0.0.0)\n",
      "   WARNING: This is a development server. Do not use it in a production deployment.\n",
      " * Running on http://127.0.0.1:8080\n",
      " * Running on http://169.254.255.131:8080 (Press CTRL+C to quit)\n",
      " * Restarting with stat\u001b[0m\n",
      "\u001b[34m * Debugger is active!\n",
      " * Debugger PIN: 113-950-310\u001b[0m\n",
      "\u001b[35m * Debugger is active!\n",
      " * Debugger PIN: 113-950-310\u001b[0m\n",
      "\u001b[34m169.254.255.130 - - [01/Apr/2022 20:37:59] \"GET /ping HTTP/1.1\" 200 -\u001b[0m\n",
      "\u001b[34m169.254.255.130 - - [01/Apr/2022 20:37:59] \"#033[33mGET /execution-parameters HTTP/1.1#033[0m\" 404 -\u001b[0m\n",
      "\u001b[34m169.254.255.130 - - [01/Apr/2022 20:37:59] \"POST /invocations HTTP/1.1\" 200 -\u001b[0m\n",
      "\u001b[35m169.254.255.130 - - [01/Apr/2022 20:37:59] \"GET /ping HTTP/1.1\" 200 -\u001b[0m\n",
      "\u001b[35m169.254.255.130 - - [01/Apr/2022 20:37:59] \"#033[33mGET /execution-parameters HTTP/1.1#033[0m\" 404 -\u001b[0m\n",
      "\u001b[35m169.254.255.130 - - [01/Apr/2022 20:37:59] \"POST /invocations HTTP/1.1\" 200 -\u001b[0m\n",
      "\u001b[32m2022-04-01T20:37:59.070:[sagemaker logs]: MaxConcurrentTransforms=1, MaxPayloadInMB=6, BatchStrategy=MULTI_RECORD\u001b[0m\n"
     ]
    }
   ],
   "source": [
    "from sagemaker.transformer import Transformer\n",
    "\n",
    "output_path=\"s3://sagemaker-eu-west-1-827345860551/curso_sagemaker/data/output\"\n",
    "\n",
    "transformer = estimator.transformer(\n",
    "    instance_count=1,\n",
    "    instance_type=\"ml.m4.xlarge\",\n",
    "    output_path=output_path,\n",
    "    assemble_with=\"Line\",\n",
    "    accept=\"text/csv\",\n",
    ")\n",
    "\n",
    "transformer.transform(\n",
    "    s3_test_path,\n",
    "    content_type=\"text/csv\",\n",
    ")\n",
    "transformer.wait()"
   ]
  },
  {
   "cell_type": "markdown",
   "id": "a9552ad0",
   "metadata": {},
   "source": [
    "## Sagemaker Pipelines"
   ]
  },
  {
   "cell_type": "markdown",
   "id": "3422804b",
   "metadata": {},
   "source": [
    "#### Processing"
   ]
  },
  {
   "cell_type": "code",
   "execution_count": 36,
   "id": "d0bd19e2",
   "metadata": {},
   "outputs": [],
   "source": [
    "from sagemaker.processing import Processor\n",
    "from sagemaker.processing import ProcessingInput, ProcessingOutput\n",
    "from sagemaker.workflow.steps import ProcessingStep\n",
    "\n",
    "account = sesion.boto_session.client(\"sts\").get_caller_identity()[\"Account\"]\n",
    "image = \"{}.dkr.ecr.{}.amazonaws.com/sagemaker-decision-trees:latest\".format(account, region)\n",
    "\n",
    "processor = Processor(\n",
    "    image_uri=image,\n",
    "    instance_type=\"ml.c4.xlarge\",\n",
    "    instance_count=1,\n",
    "    entrypoint=['process'],\n",
    "    role=role,\n",
    ")\n",
    "\n",
    "output_uri=\"s3://sagemaker-eu-west-1-827345860551/curso_sagemaker/data/output\"\n",
    "\n",
    "step_process = ProcessingStep(\n",
    "    name=\"PreprocessData\",\n",
    "    processor=processor,\n",
    "    inputs=[\n",
    "        ProcessingInput(\n",
    "            source=s3_path,\n",
    "            destination=\"/opt/ml/processing/input\"),\n",
    "    ],\n",
    "    outputs=[\n",
    "        ProcessingOutput(\n",
    "            output_name=\"train\",\n",
    "            destination=output_uri+\"/train\",\n",
    "            source=\"/opt/ml/processing/output/train\"),\n",
    "        ProcessingOutput(\n",
    "            output_name=\"test\",\n",
    "            destination=output_uri+\"/test\",\n",
    "            source=\"/opt/ml/processing/output/test\"),\n",
    "    ],\n",
    ")"
   ]
  },
  {
   "cell_type": "markdown",
   "id": "72b10622",
   "metadata": {},
   "source": [
    "#### Train"
   ]
  },
  {
   "cell_type": "code",
   "execution_count": 37,
   "id": "bdefb938",
   "metadata": {},
   "outputs": [],
   "source": [
    "from sagemaker.workflow.steps import TrainingStep\n",
    "from sagemaker.inputs import TrainingInput\n",
    "\n",
    "step_train = TrainingStep(\n",
    "    name=\"TrainSklearnModel\",\n",
    "    estimator=estimator,\n",
    "    inputs={\n",
    "        \"train\": TrainingInput(\n",
    "            s3_data=step_process.properties.ProcessingOutputConfig.Outputs[\"train\"].S3Output.S3Uri,\n",
    "            content_type=\"text/csv\",\n",
    "        ),\n",
    "        \"test\": TrainingInput(\n",
    "            s3_data=step_process.properties.ProcessingOutputConfig.Outputs[\"test\"].S3Output.S3Uri,\n",
    "            content_type=\"text/csv\",\n",
    "        ),\n",
    "    },\n",
    ")"
   ]
  },
  {
   "cell_type": "markdown",
   "id": "13f1f4a4",
   "metadata": {},
   "source": [
    "#### Create model"
   ]
  },
  {
   "cell_type": "code",
   "execution_count": 38,
   "id": "ecc3e8c9",
   "metadata": {},
   "outputs": [],
   "source": [
    "from sagemaker.model import Model\n",
    "from sagemaker.inputs import CreateModelInput\n",
    "from sagemaker.workflow.step_collections import CreateModelStep\n",
    "\n",
    "model=Model(\n",
    "    image_uri=image,\n",
    "    model_data=step_train.properties.ModelArtifacts.S3ModelArtifacts,\n",
    "    role=role,\n",
    "    sagemaker_session=sesion\n",
    ")\n",
    "\n",
    "step_create_model = CreateModelStep(\n",
    "    name=\"CreateModel\",\n",
    "    model=model,\n",
    "    inputs = CreateModelInput(instance_type=\"ml.m5.large\")\n",
    ")"
   ]
  },
  {
   "cell_type": "markdown",
   "id": "b9447e90",
   "metadata": {},
   "source": [
    "#### Transform"
   ]
  },
  {
   "cell_type": "code",
   "execution_count": 39,
   "id": "86148a4f",
   "metadata": {},
   "outputs": [],
   "source": [
    "from sagemaker.inputs import TransformInput\n",
    "from sagemaker.workflow.steps import TransformStep\n",
    "from sagemaker.transformer import Transformer\n",
    "\n",
    "output_data=\"s3://sagemaker-eu-west-1-827345860551/curso_sagemaker/output\"\n",
    "\n",
    "transformer = Transformer(\n",
    "    model_name=step_create_model.properties.ModelName,\n",
    "    instance_type=\"ml.m5.xlarge\",\n",
    "    accept=\"text/csv\",\n",
    "    instance_count=1,\n",
    "    output_path=output_data\n",
    ")\n",
    "\n",
    "step_transform = TransformStep(\n",
    "    name=\"TransformStep\", \n",
    "    transformer=transformer,\n",
    "    inputs=TransformInput(data=s3_path, content_type=\"text/csv\")\n",
    ")"
   ]
  },
  {
   "cell_type": "markdown",
   "id": "7d4ffc7a",
   "metadata": {},
   "source": [
    "#### Execute pipeline"
   ]
  },
  {
   "cell_type": "code",
   "execution_count": 40,
   "id": "d28aa095",
   "metadata": {},
   "outputs": [
    {
     "name": "stdout",
     "output_type": "stream",
     "text": [
      "[{'AttemptCount': 0,\n",
      "  'EndTime': datetime.datetime(2022, 4, 1, 23, 37, 54, 709000, tzinfo=tzlocal()),\n",
      "  'Metadata': {'TransformJob': {'Arn': 'arn:aws:sagemaker:eu-west-1:827345860551:transform-job/pipelines-exqisjk7bhsn-transformstep-j6r81xqwd8'}},\n",
      "  'StartTime': datetime.datetime(2022, 4, 1, 23, 34, 10, 948000, tzinfo=tzlocal()),\n",
      "  'StepName': 'TransformStep',\n",
      "  'StepStatus': 'Succeeded'},\n",
      " {'AttemptCount': 0,\n",
      "  'EndTime': datetime.datetime(2022, 4, 1, 23, 34, 10, 409000, tzinfo=tzlocal()),\n",
      "  'Metadata': {'Model': {'Arn': 'arn:aws:sagemaker:eu-west-1:827345860551:model/pipelines-exqisjk7bhsn-createmodel-mvyxu3a0ne'}},\n",
      "  'StartTime': datetime.datetime(2022, 4, 1, 23, 34, 9, 726000, tzinfo=tzlocal()),\n",
      "  'StepName': 'CreateModel',\n",
      "  'StepStatus': 'Succeeded'},\n",
      " {'AttemptCount': 0,\n",
      "  'EndTime': datetime.datetime(2022, 4, 1, 23, 34, 8, 927000, tzinfo=tzlocal()),\n",
      "  'Metadata': {'TrainingJob': {'Arn': 'arn:aws:sagemaker:eu-west-1:827345860551:training-job/pipelines-exqisjk7bhsn-trainsklearnmodel-yreva1bmkp'}},\n",
      "  'StartTime': datetime.datetime(2022, 4, 1, 23, 31, 54, 202000, tzinfo=tzlocal()),\n",
      "  'StepName': 'TrainSklearnModel',\n",
      "  'StepStatus': 'Succeeded'},\n",
      " {'AttemptCount': 0,\n",
      "  'EndTime': datetime.datetime(2022, 4, 1, 23, 31, 53, 388000, tzinfo=tzlocal()),\n",
      "  'Metadata': {'ProcessingJob': {'Arn': 'arn:aws:sagemaker:eu-west-1:827345860551:processing-job/pipelines-exqisjk7bhsn-preprocessdata-qmh6irlwg7'}},\n",
      "  'StartTime': datetime.datetime(2022, 4, 1, 23, 27, 34, 294000, tzinfo=tzlocal()),\n",
      "  'StepName': 'PreprocessData',\n",
      "  'StepStatus': 'Succeeded'}]\n"
     ]
    }
   ],
   "source": [
    "import json\n",
    "from pprint import pprint\n",
    "from sagemaker.workflow.pipeline import Pipeline\n",
    "\n",
    "pipeline = Pipeline(\n",
    "    name=\"SklearnIrisPipeline\",\n",
    "    steps=[\n",
    "        step_process,\n",
    "        step_train,\n",
    "        step_create_model,\n",
    "        step_transform\n",
    "    ],\n",
    ")\n",
    "\n",
    "pipeline.upsert(role_arn=role)\n",
    "definition = json.loads(pipeline.definition())\n",
    "\n",
    "try:\n",
    "    execution = pipeline.start()\n",
    "    execution.wait()\n",
    "    pprint(execution.list_steps())\n",
    "except:\n",
    "    pprint(execution.list_steps())"
   ]
  }
 ],
 "metadata": {
  "kernelspec": {
   "display_name": "Python 3 (ipykernel)",
   "language": "python",
   "name": "python3"
  },
  "language_info": {
   "codemirror_mode": {
    "name": "ipython",
    "version": 3
   },
   "file_extension": ".py",
   "mimetype": "text/x-python",
   "name": "python",
   "nbconvert_exporter": "python",
   "pygments_lexer": "ipython3",
   "version": "3.8.10"
  }
 },
 "nbformat": 4,
 "nbformat_minor": 5
}
