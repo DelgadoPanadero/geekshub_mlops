{
 "cells": [
  {
   "cell_type": "markdown",
   "id": "b48a8d2a",
   "metadata": {},
   "source": [
    "# Sesión 2 - Sagemaker Pipeline"
   ]
  },
  {
   "cell_type": "markdown",
   "id": "f651c6a6",
   "metadata": {},
   "source": [
    "## Subida de datos"
   ]
  },
  {
   "cell_type": "code",
   "execution_count": 2,
   "id": "c6956168",
   "metadata": {},
   "outputs": [
    {
     "name": "stdout",
     "output_type": "stream",
     "text": [
      "s3://sagemaker-eu-west-1-827345860551/curso_sagemaker/data/iris.csv\n"
     ]
    }
   ],
   "source": [
    "import boto3\n",
    "import pandas as pd\n",
    "import numpy as np\n",
    "import sagemaker\n",
    "from sklearn.datasets import load_iris\n",
    "\n",
    "\n",
    "sesion = sagemaker.Session()\n",
    "region = sesion.boto_session.region_name\n",
    "bucket = sesion.default_bucket()\n",
    "\n",
    "data = load_iris()\n",
    "df = pd.DataFrame(\n",
    "    data=np.c_[data['data'], data['target']],\n",
    "    columns= data['feature_names'] + ['Species']\n",
    "    )\n",
    "    \n",
    "df.to_csv(\"iris.csv\",index=False)\n",
    "\n",
    "s3_path = sesion.upload_data(\n",
    "    path=\"iris.csv\",\n",
    "    bucket=bucket,\n",
    "    key_prefix=\"curso_sagemaker/data\"\n",
    ")\n",
    "\n",
    "print(s3_path)"
   ]
  },
  {
   "cell_type": "markdown",
   "id": "81f965f3",
   "metadata": {},
   "source": [
    "# Creación de los Steps del Pipeline"
   ]
  },
  {
   "cell_type": "markdown",
   "id": "a4a96e0f",
   "metadata": {},
   "source": [
    "## Processing Step"
   ]
  },
  {
   "cell_type": "code",
   "execution_count": 3,
   "id": "0456aa0a",
   "metadata": {},
   "outputs": [],
   "source": [
    "from sagemaker.sklearn.processing import SKLearnProcessor\n",
    "from sagemaker.workflow.steps import ProcessingStep\n",
    "from sagemaker.processing import ProcessingInput, ProcessingOutput\n",
    "\n",
    "input_data=\"s3://sagemaker-eu-west-1-827345860551/curso_sagemaker/data/\"\n",
    "role=\"arn:aws:iam::827345860551:role/SageMakerExecutionRole\"\n",
    "\n",
    "sklearn_processor = SKLearnProcessor(\n",
    "    framework_version=\"0.23-1\",\n",
    "    instance_type=\"ml.c4.xlarge\",\n",
    "    instance_count=1,\n",
    "    role=role,\n",
    ")\n",
    "\n",
    "step_process = ProcessingStep(\n",
    "    name=\"PreprocessStep\",\n",
    "    processor=sklearn_processor,\n",
    "    inputs=[\n",
    "        ProcessingInput(\n",
    "            source=input_data,\n",
    "            destination=\"/opt/ml/processing/input\"),\n",
    "    ],\n",
    "    outputs=[\n",
    "        ProcessingOutput(\n",
    "            output_name=\"train\",\n",
    "            source=\"/opt/ml/processing/output/train\"),\n",
    "        ProcessingOutput(\n",
    "            output_name=\"test\",\n",
    "            source=\"/opt/ml/processing/output/test\"),\n",
    "    ],\n",
    "    code=\"src/process.py\",\n",
    ")"
   ]
  },
  {
   "cell_type": "markdown",
   "id": "5f5826d9",
   "metadata": {},
   "source": [
    "## Train Step"
   ]
  },
  {
   "cell_type": "code",
   "execution_count": 4,
   "id": "edbbabe3",
   "metadata": {},
   "outputs": [],
   "source": [
    "from sagemaker.sklearn.estimator import SKLearn\n",
    "from sagemaker.workflow.steps import TrainingStep\n",
    "from sagemaker.inputs import TrainingInput\n",
    "\n",
    "sklearn_estimator = SKLearn(\n",
    "    source_dir='./src',\n",
    "    entry_point='train.py',\n",
    "    framework_version='0.23-1',\n",
    "    instance_type=\"ml.c4.xlarge\",\n",
    "    role=role,\n",
    "    sagemaker_session=sesion,\n",
    "    hyperparameters={\n",
    "        \"min_leaf_nodes\": 3,\n",
    "        \"n_estimators\": 10,\n",
    "        \"target\": \"Species\"\n",
    "    }\n",
    ")\n",
    "\n",
    "step_train = TrainingStep(\n",
    "    name=\"TrainStep\",\n",
    "    estimator=sklearn_estimator,\n",
    "    inputs={\n",
    "        \"train\": TrainingInput(\n",
    "            s3_data=step_process.properties.ProcessingOutputConfig.Outputs[\"train\"].S3Output.S3Uri,\n",
    "            content_type=\"text/csv\",\n",
    "        ),\n",
    "        \"test\": TrainingInput(\n",
    "            s3_data=step_process.properties.ProcessingOutputConfig.Outputs[\"test\"].S3Output.S3Uri,\n",
    "            content_type=\"text/csv\",\n",
    "        ),\n",
    "    },\n",
    ")"
   ]
  },
  {
   "cell_type": "markdown",
   "id": "fe4ff6fd",
   "metadata": {},
   "source": [
    "## Create Model"
   ]
  },
  {
   "cell_type": "code",
   "execution_count": 5,
   "id": "77e8a600",
   "metadata": {},
   "outputs": [],
   "source": [
    "from sagemaker.sklearn.model import SKLearnModel\n",
    "from sagemaker.inputs import CreateModelInput\n",
    "from sagemaker.workflow.step_collections import CreateModelStep\n",
    "\n",
    "model = SKLearnModel(\n",
    "    model_data=step_train.properties.ModelArtifacts.S3ModelArtifacts,\n",
    "    source_dir='./src',\n",
    "    entry_point='train.py',\n",
    "    framework_version='0.23-1',\n",
    "    role=role,\n",
    "    sagemaker_session=sesion,\n",
    ")\n",
    "\n",
    "step_create_model = CreateModelStep(\n",
    "    name=\"CreateModel\",\n",
    "    model=model,\n",
    "    inputs = CreateModelInput(instance_type=\"ml.m5.large\")\n",
    ")"
   ]
  },
  {
   "cell_type": "markdown",
   "id": "e3a5c433",
   "metadata": {},
   "source": [
    "## Transform Step"
   ]
  },
  {
   "cell_type": "code",
   "execution_count": 6,
   "id": "609d999e",
   "metadata": {},
   "outputs": [],
   "source": [
    "from sagemaker.inputs import TransformInput\n",
    "from sagemaker.workflow.steps import TransformStep\n",
    "from sagemaker.transformer import Transformer\n",
    "\n",
    "output_data=\"s3://sagemaker-eu-west-1-827345860551/curso_sagemaker/data/iris.out\"\n",
    "\n",
    "transformer = Transformer(\n",
    "    model_name=step_create_model.properties.ModelName,\n",
    "    instance_type=\"ml.m5.xlarge\",\n",
    "    accept=\"text/csv\",\n",
    "    instance_count=1,\n",
    "    output_path=output_data\n",
    ")\n",
    "\n",
    "step_transform = TransformStep(\n",
    "    name=\"TransformStep\", \n",
    "    transformer=transformer,\n",
    "    inputs=TransformInput(data=s3_path, content_type=\"text/csv\")\n",
    ")"
   ]
  },
  {
   "cell_type": "markdown",
   "id": "08f5750a",
   "metadata": {},
   "source": [
    "## RegisterModel Step"
   ]
  },
  {
   "cell_type": "code",
   "execution_count": null,
   "id": "35c1faab",
   "metadata": {},
   "outputs": [],
   "source": [
    "from sagemaker.workflow.step_collections import RegisterModel\n",
    "\n",
    "register_step = RegisterModel(\n",
    "    name=\"RegistroModelo\",\n",
    "    model=model,\n",
    "    content_types=[\"text/csv\"],\n",
    "    response_types=[\"text/csv\"],\n",
    "    inference_instances=[\"ml.t2.medium\", \"ml.m5.xlarge\"],\n",
    "    transform_instances=[\"ml.m5.xlarge\"],\n",
    "    model_package_group_name=\"SklearnIris\",\n",
    "    approval_status=\"Approved\",\n",
    ")\n"
   ]
  },
  {
   "cell_type": "markdown",
   "id": "ec02c05f",
   "metadata": {},
   "source": [
    "# Ejecucion del Pipeline"
   ]
  },
  {
   "cell_type": "code",
   "execution_count": 7,
   "id": "34ab684c",
   "metadata": {},
   "outputs": [
    {
     "name": "stdout",
     "output_type": "stream",
     "text": [
      "[{'AttemptCount': 0,\n",
      "  'EndTime': datetime.datetime(2022, 4, 25, 18, 36, 59, 297000, tzinfo=tzlocal()),\n",
      "  'FailureReason': 'ClientError: AlgorithmError: See job logs for more '\n",
      "                   'information',\n",
      "  'Metadata': {'TransformJob': {'Arn': 'arn:aws:sagemaker:eu-west-1:827345860551:transform-job/pipelines-velzm77h9gsp-transformstep-6wqwedzpf8'}},\n",
      "  'StartTime': datetime.datetime(2022, 4, 25, 18, 32, 28, 377000, tzinfo=tzlocal()),\n",
      "  'StepName': 'TransformStep',\n",
      "  'StepStatus': 'Failed'},\n",
      " {'AttemptCount': 0,\n",
      "  'EndTime': datetime.datetime(2022, 4, 25, 18, 32, 27, 571000, tzinfo=tzlocal()),\n",
      "  'Metadata': {'Model': {'Arn': 'arn:aws:sagemaker:eu-west-1:827345860551:model/pipelines-velzm77h9gsp-createmodel-6alvbpozfk'}},\n",
      "  'StartTime': datetime.datetime(2022, 4, 25, 18, 32, 26, 418000, tzinfo=tzlocal()),\n",
      "  'StepName': 'CreateModel',\n",
      "  'StepStatus': 'Succeeded'},\n",
      " {'AttemptCount': 0,\n",
      "  'EndTime': datetime.datetime(2022, 4, 25, 18, 32, 25, 662000, tzinfo=tzlocal()),\n",
      "  'Metadata': {'TrainingJob': {'Arn': 'arn:aws:sagemaker:eu-west-1:827345860551:training-job/pipelines-velzm77h9gsp-trainstep-e9gmkzrsr5'}},\n",
      "  'StartTime': datetime.datetime(2022, 4, 25, 18, 29, 4, 213000, tzinfo=tzlocal()),\n",
      "  'StepName': 'TrainStep',\n",
      "  'StepStatus': 'Succeeded'},\n",
      " {'AttemptCount': 0,\n",
      "  'EndTime': datetime.datetime(2022, 4, 25, 18, 29, 2, 966000, tzinfo=tzlocal()),\n",
      "  'Metadata': {'ProcessingJob': {'Arn': 'arn:aws:sagemaker:eu-west-1:827345860551:processing-job/pipelines-velzm77h9gsp-preprocessstep-lk3k69gmo4'}},\n",
      "  'StartTime': datetime.datetime(2022, 4, 25, 18, 24, 9, 102000, tzinfo=tzlocal()),\n",
      "  'StepName': 'PreprocessStep',\n",
      "  'StepStatus': 'Succeeded'}]\n"
     ]
    }
   ],
   "source": [
    "import json\n",
    "from pprint import pprint\n",
    "from sagemaker.workflow.pipeline import Pipeline\n",
    "\n",
    "pipeline = Pipeline(\n",
    "    name=\"SklearnIrisPipeline\",\n",
    "    steps=[\n",
    "        step_process,\n",
    "        step_train,\n",
    "        step_create_model,\n",
    "        step_transform,\n",
    "        register_step\n",
    "    ],\n",
    ")\n",
    "\n",
    "pipeline.upsert(role_arn=role)\n",
    "definition = json.loads(pipeline.definition())\n",
    "\n",
    "try:\n",
    "    execution = pipeline.start()\n",
    "    execution.wait()\n",
    "    pprint(execution.list_steps())\n",
    "except:\n",
    "    pprint(execution.list_steps())"
   ]
  }
 ],
 "metadata": {
  "kernelspec": {
   "display_name": "Python 3 (ipykernel)",
   "language": "python",
   "name": "python3"
  },
  "language_info": {
   "codemirror_mode": {
    "name": "ipython",
    "version": 3
   },
   "file_extension": ".py",
   "mimetype": "text/x-python",
   "name": "python",
   "nbconvert_exporter": "python",
   "pygments_lexer": "ipython3",
   "version": "3.8.10"
  }
 },
 "nbformat": 4,
 "nbformat_minor": 5
}
